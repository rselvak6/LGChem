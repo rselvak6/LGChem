{
 "cells": [
  {
   "cell_type": "code",
   "execution_count": null,
   "metadata": {
    "collapsed": true
   },
   "outputs": [],
   "source": [
    "## CE 295 - Energy Systems and Control\n",
    "# HW 5 : Optimal PHEV Energy Management via Dynamic Programming\n",
    "# Oski Bear, SID 18681868\n",
    "# Prof. Moura\n",
    "# Due Date is written here\n",
    "\n",
    "# BEAR_OSKI_HW5.ipynb\n",
    "\n",
    "import numpy as np\n",
    "import matplotlib.pyplot as plt\n",
    "%matplotlib inline\n",
    "import pandas as pd\n",
    "from scipy import interp\n",
    "import timeit\n",
    "\n",
    "fs = 15 # Font Size for plots"
   ]
  },
  {
   "cell_type": "code",
   "execution_count": null,
   "metadata": {
    "collapsed": false
   },
   "outputs": [],
   "source": [
    "## Parameters and Data\n",
    "\n",
    "# Time step\n",
    "Delta_t = 1.\n",
    "\n",
    "# Fuel consumption in grams per unit energy\n",
    "alph = 1e-4     # [g/(s-W)]\n",
    "\n",
    "Qcap = 5*3600.        # [A-s = Coulombs]\n",
    "V_oc = 330.             # [volts]\n",
    "\n",
    "# Limits on Batt Power, Eng Power, SOC\n",
    "P_batt_max = 15e3  # [W]\n",
    "P_eng_max = 35e3   # [W]\n",
    "\n",
    "SOC_min = 0.25     # [-]\n",
    "SOC_max = 0.9      # [-]\n",
    "\n",
    "## Load UDDS Data\n",
    "data=pd.read_csv(\"UDDS_Pdem.csv\")\n",
    "print(data.head())\n",
    "print(data.describe())\n",
    "\n",
    "t = np.asarray(data)[:,0]\n",
    "P_dem = np.asarray(data)[:,1]*1e3\n",
    "v_dc = np.asarray(data)[:,2]"
   ]
  },
  {
   "cell_type": "code",
   "execution_count": null,
   "metadata": {
    "collapsed": false
   },
   "outputs": [],
   "source": [
    "# Plot Power Demand Data\n",
    "plt.figure(num=1, figsize=(10, 9), dpi=80, facecolor='w', edgecolor='k')\n",
    "\n",
    "plt.subplot(2,1,1)\n",
    "plt.plot( )  # plot speed\n",
    "\n",
    "plt.subplot(2,1,2)\n",
    "plt.plot(  ) # plot power demand\n",
    "\n",
    "plt.show()"
   ]
  },
  {
   "cell_type": "code",
   "execution_count": null,
   "metadata": {
    "collapsed": false
   },
   "outputs": [],
   "source": [
    "# ENGINE EFFICIENCY CURVE\n",
    "def eta_eng(P_eng):\n",
    "\n",
    "    # polynomial coefficients\n",
    "    p1 =   5.128e-08\n",
    "    p2 =  -5.927e-06\n",
    "    p3 =   0.0002652\n",
    "    p4 =    -0.00583\n",
    "    p5 =      0.0672\n",
    "    p6 =   2.622e-05\n",
    "\n",
    "    # Convert from W to kW\n",
    "    x = P_eng/1e3\n",
    "\n",
    "    # Compute efficiency curve\n",
    "    out = p1*x**5 + p2*x**4 + p3*x**3 + p4*x**2 + p5*x + p6\n",
    "    return out\n",
    "\n",
    "# Plot Engine efficiency Curve\n",
    "\n",
    "plt.figure(num=2, figsize=(8, 4.5), dpi=80, facecolor='w', edgecolor='k')\n",
    "\n",
    "plt.plot(  ) # plot efficiency versus engine power, for total range of engine powers\n",
    "\n",
    "plt.show()"
   ]
  },
  {
   "cell_type": "code",
   "execution_count": null,
   "metadata": {
    "collapsed": false
   },
   "outputs": [],
   "source": [
    "## Grid State Space and Preallocate arrays\n",
    "SOC_grid = np.linspace(SOC_min,SOC_max,72)\n",
    "\n",
    "# Grid size\n",
    "ns = len(SOC_grid)  # No. of states\n",
    "\n",
    "# Planning horizon (time steps)\n",
    "N = len(t)\n",
    "\n",
    "# Preallocate Value Function (rows index state, columns index time)\n",
    "V = np.inf*np.ones((ns,N+1))\n",
    "\n",
    "# Preallocate Control (rows index state, columns index time)\n",
    "u_star = np.zeros((ns,N))"
   ]
  },
  {
   "cell_type": "code",
   "execution_count": null,
   "metadata": {
    "collapsed": false
   },
   "outputs": [],
   "source": [
    "## SOLVE DYNAMIC PROGRAM\n",
    "start = timeit.timeit()\n",
    "\n",
    "# Boundary Condition of Value Function (Principle of Optimality)\n",
    "V[:,N] = ?????\n",
    "\n",
    "# Iterate backward in time\n",
    "for k in range(N-1, 0, -1):\n",
    "\n",
    "    # Iterate over SOC\n",
    "    for idx in range(0,ns):\n",
    "        \n",
    "        # Find dominant bounds for P_batt\n",
    "        lb = ???\n",
    "        ub = ???\n",
    "        \n",
    "        # Grid Battery Power between dominant bounds\n",
    "        P_batt_grid = np.linspace(lb,ub,200)\n",
    "        \n",
    "        # Compute engine power (vectorized for all P_batt_grid)\n",
    "        P_eng = ???\n",
    "        \n",
    "        # Cost-per-time-step, a.k.a. fuel consumed at each stage (vectorized for all P_batt_grid)\n",
    "        g_k = ???\n",
    "        \n",
    "        # compute next SOC using dynamics\n",
    "        SOC_nxt = ???\n",
    "        \n",
    "        # Compute value function at nxt time step (need to interpolate)\n",
    "        V_nxt = interp(SOC_nxt, SOC_grid, V[:,k+1])\n",
    "        \n",
    "        # Value Function (Principle of Optimality)\n",
    "        V[idx,k] = min(???)\n",
    "        ind = np.argmin(???)\n",
    "        \n",
    "        # Save Optimal Control\n",
    "        u_star[idx,k] = P_batt_grid[ind]\n",
    "        \n",
    "# DP Timer\n",
    "end = timeit.timeit()\n",
    "print(str(end - start) + \" seconds\")"
   ]
  },
  {
   "cell_type": "code",
   "execution_count": null,
   "metadata": {
    "collapsed": false
   },
   "outputs": [],
   "source": [
    "## Simulate Results\n",
    "\n",
    "# Preallocate\n",
    "SOC_sim = np.zeros((N,))\n",
    "P_batt_sim = np.zeros((N,))\n",
    "P_eng_sim = np.zeros((N,))\n",
    "J_sim = np.zeros((N,))\n",
    "\n",
    "# Initialize\n",
    "SOC_0 = # put initial SOC here!\n",
    "SOC_sim[0] = SOC_0\n",
    "\n",
    "# Simulate PHEV Dynamics\n",
    "for k in range(0,(N-1)):\n",
    "    \n",
    "    # Use optimal battery power, for given SOC\n",
    "    P_batt_sim[k] = interp( , , )\n",
    "    \n",
    "    # Compute engine power\n",
    "    P_eng_sim[k] = \n",
    "    \n",
    "    # Fuel Consumption\n",
    "    J_sim[k] = \n",
    "    \n",
    "    # Time-step SOC dynamics\n",
    "    SOC_sim[k+1] = "
   ]
  },
  {
   "cell_type": "code",
   "execution_count": null,
   "metadata": {
    "collapsed": false
   },
   "outputs": [],
   "source": [
    "## Plot Simulation Results\n",
    "plt.figure(num=4, figsize=(10, 18), dpi=80, facecolor='w', edgecolor='k')\n",
    "\n",
    "plt.subplot(4,1,1)\n",
    "# UDDS speed versus time \n",
    "\n",
    "plt.subplot(4,1,2)\n",
    "# SOC versus time\n",
    "\n",
    "plt.subplot(4,1,3)\n",
    "# Accumulated fuel consumption [g] versus time\n",
    "\n",
    "plt.subplot(4,1,4)\n",
    "# Battery and engine power [kW] versus time\n",
    "\n",
    "plt.show()"
   ]
  },
  {
   "cell_type": "code",
   "execution_count": null,
   "metadata": {
    "collapsed": true
   },
   "outputs": [],
   "source": []
  }
 ],
 "metadata": {
  "kernelspec": {
   "display_name": "Python 2",
   "language": "python",
   "name": "python2"
  },
  "language_info": {
   "codemirror_mode": {
    "name": "ipython",
    "version": 2
   },
   "file_extension": ".py",
   "mimetype": "text/x-python",
   "name": "python",
   "nbconvert_exporter": "python",
   "pygments_lexer": "ipython2",
   "version": "2.7.13"
  }
 },
 "nbformat": 4,
 "nbformat_minor": 0
}
